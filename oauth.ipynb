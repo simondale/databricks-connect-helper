{
 "metadata": {
  "language_info": {
   "codemirror_mode": {
    "name": "ipython",
    "version": 3
   },
   "file_extension": ".py",
   "mimetype": "text/x-python",
   "name": "python",
   "nbconvert_exporter": "python",
   "pygments_lexer": "ipython3",
   "version": "3.7.6-final"
  },
  "orig_nbformat": 2,
  "kernelspec": {
   "name": "Python 3.7.6 64-bit ('.venv': venv)",
   "display_name": "Python 3.7.6 64-bit ('.venv': venv)",
   "metadata": {
    "interpreter": {
     "hash": "dae6f0ba7f8a0a32ccf5d37e167589af8f0dcb0988f6c5e9fd8f01a94b06b8fa"
    }
   }
  }
 },
 "nbformat": 4,
 "nbformat_minor": 2,
 "cells": [
  {
   "cell_type": "code",
   "execution_count": null,
   "metadata": {},
   "outputs": [],
   "source": [
    "import urllib\n",
    "import requests\n",
    "import time\n",
    "import os\n",
    "\n",
    "headers = {\n",
    "    'Content-Type': 'application/x-www-form-urlencoded'\n",
    "}\n",
    "\n",
    "tenant_id = os.environ.get('DATABRICKS_TENANT', 'Common')\n",
    "client_id = os.environ.get('DATABRICKS_CLINET_ID')\n",
    "code_url = f'https://login.microsoftonline.com/{tenant_id}/oauth2/v2.0/devicecode'\n",
    "token_url = f'https://login.microsoftonline.com/{tenant_id}/oauth2/v2.0/token'\n",
    "scope = urllib.parse.quote('https://storage.azure.com/.default offline_access')\n",
    "client_body = f'client_id={client_id}&scope={scope}'\n",
    "\n",
    "print(f'Authenticating to: {code_url}')\n",
    "code_response = requests.post(code_url, data=client_body, headers=headers).json()\n",
    "print(code_response.get('message'))\n",
    "\n",
    "grant_type = urllib.parse.quote('urn:ietf:params:oauth:grant-type:device_code')\n",
    "device_code = code_response.get('device_code')\n",
    "token_body = f'grant_type={grant_type}&client_id={client_id}&device_code={device_code}'\n",
    "\n"
   ]
  },
  {
   "cell_type": "code",
   "execution_count": null,
   "metadata": {},
   "outputs": [],
   "source": [
    "expires_in = code_response.get('expires_in')\n",
    "while expires_in > 0:\n",
    "    token_response = requests.post(token_url, data=token_body, headers=headers).json()\n",
    "    if token_response.get('refresh_token') is not None:\n",
    "        break\n",
    "    time.sleep(5)\n",
    "    expires_in -= 5"
   ]
  },
  {
   "cell_type": "code",
   "execution_count": null,
   "metadata": {},
   "outputs": [],
   "source": [
    "from pyspark.sql import SparkSession\n",
    "\n",
    "spark = SparkSession.builder.getOrCreate()\n",
    "spark.conf.set('fs.azure.account.auth.type', 'OAuth')\n",
    "spark.conf.set('fs.azure.account.oauth.provider.type', 'org.apache.hadoop.fs.azurebfs.oauth2.RefreshTokenBasedTokenProvider')\n",
    "spark.conf.set('fs.azure.account.oauth2.refresh.token', token_response.get('refresh_token'))\n",
    "spark.conf.set('fs.azure.account.oauth2.refresh.endpoint', 'https://login.microsoftonline.com/Common/oauth2/token')\n",
    "spark.conf.set('fs.azure.account.oauth2.client.id', client_id)\n"
   ]
  }
 ]
}